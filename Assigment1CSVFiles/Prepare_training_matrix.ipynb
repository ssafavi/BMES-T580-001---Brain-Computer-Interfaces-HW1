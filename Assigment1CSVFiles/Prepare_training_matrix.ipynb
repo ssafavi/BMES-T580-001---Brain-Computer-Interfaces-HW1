{
 "cells": [
  {
   "cell_type": "code",
   "execution_count": 35,
   "metadata": {
    "scrolled": true
   },
   "outputs": [],
   "source": [
    "import pandas as pd\n",
    "from pprint import pprint\n",
    "import json\n",
    "import matplotlib.pyplot as plt\n",
    "from sklearn.cluster import KMeans\n"
   ]
  },
  {
   "cell_type": "code",
   "execution_count": 2,
   "metadata": {},
   "outputs": [],
   "source": [
    "#read the CSVs \n",
    "codes = pd.read_csv('codes.csv', header=None)\n",
    "rounds = pd.read_csv('rounds.csv', header=None)\n",
    "stimulusIndex = pd.read_csv('stimulusIndex.csv', header=None)\n",
    "eeg = pd.read_csv('EEGData.csv', header=None)\n",
    "stimulusIndex = pd.read_csv('stimulusIndex.csv', header=None)\n",
    "\n"
   ]
  },
  {
   "cell_type": "code",
   "execution_count": 38,
   "metadata": {},
   "outputs": [],
   "source": [
    "#adjust the for Python strating from zero\n",
    "stimulusIndex[0] = stimulusIndex[0].astype(int)\n",
    "stimulusIndex[0] = stimulusIndex[0] - 1\n",
    "codes_list = codes[0].to_list()\n",
    "rounds_list = rounds[0].to_list()\n",
    "stimulus_list = stimulusIndex[0].to_list()"
   ]
  },
  {
   "cell_type": "code",
   "execution_count": 37,
   "metadata": {},
   "outputs": [],
   "source": [
    "#training matix is the combination of codes , rounds and EEGdata based on stimulusIndex \n",
    "training_matrix = []\n",
    "for i in range(0, len(stimulus_list)):\n",
    "    eeg_column_number = stimulus_list[i]\n",
    "    eeg_value = eeg[eeg_column_number].to_list()\n",
    "    codes_row_number = i\n",
    "    codes_value = codes_list[codes_row_number]\n",
    "    rounds_row_number = i\n",
    "    rounds_value = rounds_list[rounds_row_number]\n",
    "    training_matrix_row = {'code': codes_value, 'round':rounds_value, 'e1': eeg_value[0], 'e2': eeg_value[1], 'e3': eeg_value[2]}\n",
    "    training_matrix.append(training_matrix_row)"
   ]
  },
  {
   "cell_type": "code",
   "execution_count": 23,
   "metadata": {},
   "outputs": [],
   "source": [
    "#turn the training matrix into a columar dataframe \n",
    "training_mat_df = pd.read_json(json.dumps(training_matrix), orient='records')"
   ]
  },
  {
   "cell_type": "code",
   "execution_count": 30,
   "metadata": {},
   "outputs": [],
   "source": [
    "#for each round group by the code and calculate the mean for e1 , e2 and e3 \n",
    "max_round = rounds[0].max()\n",
    "for round_num in range(1, max_round+1):\n",
    "    training_matrix_current_round = training_mat_df[training_mat_df['round'] == round_num]\n",
    "    round_average_by_code = training_matrix_current_round.groupby(['code', 'round']).mean()\n",
    "    if(round_num !=1):\n",
    "        training_matrix_average_by_rounds = training_matrix_average_by_rounds.append(averaged_round_num)\n",
    "    else:\n",
    "        training_matrix_average_by_rounds = round_average_by_code"
   ]
  },
  {
   "cell_type": "code",
   "execution_count": 41,
   "metadata": {},
   "outputs": [
    {
     "name": "stdout",
     "output_type": "stream",
     "text": [
      "accuracy = 11.280864197530864\n"
     ]
    }
   ],
   "source": [
    "# Question : why the recommendation is to use a non-supervised algorithm, even though we have labeled data?\n",
    "Kmeans = KMeans(n_clusters=9, max_iter=50000).fit_predict(training_mat_df[['e1','e2','e3']])\n",
    "training_mat_df['kmeans_result'] = list(kmeans)\n",
    "training_mat_df['kmeans_result'] = training_mat_df['kmeans_result'] + 1\n",
    "training_mat_df['ismatch'] = training_mat_df['code'] == training_mat_df['kmeans_result']\n",
    "counts = training_mat_df['ismatch'].value_counts()\n",
    "total = len(list(kmeans))\n",
    "print(f'accuracy = {(list(counts)[1] / total)* 100}')"
   ]
  }
 ],
 "metadata": {
  "kernelspec": {
   "display_name": "Python 3",
   "language": "python",
   "name": "python3"
  },
  "language_info": {
   "codemirror_mode": {
    "name": "ipython",
    "version": 3
   },
   "file_extension": ".py",
   "mimetype": "text/x-python",
   "name": "python",
   "nbconvert_exporter": "python",
   "pygments_lexer": "ipython3",
   "version": "3.8.0"
  }
 },
 "nbformat": 4,
 "nbformat_minor": 2
}
